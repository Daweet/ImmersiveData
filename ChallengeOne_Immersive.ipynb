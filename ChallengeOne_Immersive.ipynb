{
 "cells": [
  {
   "cell_type": "markdown",
   "metadata": {},
   "source": [
    "Create a program where the user can play a game of rock, paper, scissors against a computer. Set a play choice (rock, paper, or scissors) for the computer player and during the program, request for the user to input their play choice.\n",
    "\n",
    "The rules in Rock, Paper, Scissors are:\n",
    "\n",
    "* Rock beats scissors \n",
    "* Scissors beats paper \n",
    "* Paper beats rock \n",
    "\n",
    "\n",
    "If the user wins, then display \"You win!\" If they lose against the computer, then display \"You lose.\" If the computer and the user have the same play choice, display \"It's a draw.\"\n",
    "\n",
    "BONUS: Randomize the play choice for the computer (hint: Python has a library called random). Also ask the user if they would like to play again. If they do, start the game again but if not, thank the user for playing the game."
   ]
  },
  {
   "cell_type": "code",
   "execution_count": 94,
   "metadata": {},
   "outputs": [
    {
     "name": "stdout",
     "output_type": "stream",
     "text": [
      "rock, paper, scissors: scissors\n",
      "Its a draw!\n",
      "Do you want to play again?, type yes or no: no\n"
     ]
    }
   ],
   "source": [
    "from random import randint\n",
    "play_list = ['rock', 'paper', 'scissors']\n",
    "#comp_choice = random.choices(comp_list, weights = None)\n",
    "comp_choice = play_list[randint(0,2)]\n",
    "\n",
    "your_choice = True\n",
    "#your_choice = input('rock, paper, scissors: ')\n",
    "while your_choice:#your_choice\n",
    "    your_choice = input('rock, paper, scissors: ')\n",
    "    if your_choice == comp_choice:\n",
    "        print(\"Its a draw!\")\n",
    "    elif your_choice == 'rock': \n",
    "        if comp_choice == 'scissors':\n",
    "            print(\"You won!\")\n",
    "        else:\n",
    "            print(\"You lose!\")\n",
    "            \n",
    "    elif your_choice == 'scissors':\n",
    "        if comp_choice == 'paper':\n",
    "            print(\"You won!\")\n",
    "        else:\n",
    "            print(\"You lose!\")\n",
    "    elif your_choice == 'paper': \n",
    "        if comp_choice == 'rock':\n",
    "            print(\"You won!\")\n",
    "        else:\n",
    "            print(\"You lose!\")\n",
    "    #your_choice = True\n",
    "    #comp_choice = play_list[randint(0,2)] \n",
    "    play_again=str(input(\"Do you want to play again?, type yes or no: \"))\n",
    "    if play_again == \"no\":\n",
    "      your_choice = False\n",
    "    "
   ]
  },
  {
   "cell_type": "markdown",
   "metadata": {},
   "source": [
    "This assignmnet is submitted by Dawit Hailu!"
   ]
  }
 ],
 "metadata": {
  "kernelspec": {
   "display_name": "Python 3",
   "language": "python",
   "name": "python3"
  },
  "language_info": {
   "codemirror_mode": {
    "name": "ipython",
    "version": 3
   },
   "file_extension": ".py",
   "mimetype": "text/x-python",
   "name": "python",
   "nbconvert_exporter": "python",
   "pygments_lexer": "ipython3",
   "version": "3.7.6"
  }
 },
 "nbformat": 4,
 "nbformat_minor": 4
}
