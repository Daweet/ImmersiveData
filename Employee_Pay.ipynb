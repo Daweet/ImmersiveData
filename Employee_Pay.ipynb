{
 "cells": [
  {
   "cell_type": "markdown",
   "metadata": {},
   "source": [
    "# Assignment: \n",
    "\n",
    "Using a text editor, write a program that calculates the salary for the week of the employees listed below. If an employee worked more than 40 hours that week, then calculate the remaining hours as time and a half (1.5x the normal rate).The program should print their name and salary earned. Upload your finished script to Github and use its URL for your assignment submission."
   ]
  },
  {
   "cell_type": "code",
   "execution_count": 10,
   "metadata": {},
   "outputs": [
    {
     "name": "stdout",
     "output_type": "stream",
     "text": [
      "Salary earned by Mary is $600.0 \n",
      "Salary earned by John is $880.0 \n",
      "Salary earned by Bob is $1400.0 \n",
      "Salary earned by Mel is $3139.0 \n",
      "Salary earned by Jen is $680.0 \n",
      "Salary earned by Sue is $1377.5 \n",
      "Salary earned by Ken is $1600.0 \n",
      "Salary earned by Dave is $800.0 \n",
      "Salary earned by Beth is $1480.0 \n",
      "Salary earned by Ray is $1650.0 \n"
     ]
    }
   ],
   "source": [
    "employee_data = [['ID_Number', 'Name', 'Pay_Rate', 'Hours_Worked'],[1, 'Mary', 15.00, 40], [2, 'John', 22.00, 25], \n",
    "       [3, 'Bob', 35.00, 4], [4, 'Mel', 43.00, 62],\n",
    "       [5, 'Jen', 17.00, 33],[6, 'Sue', 29.00, 45],\n",
    "       [7, 'Ken', 40.00, 36],[8, 'Dave', 20.00, 17],\n",
    "       [9, 'Beth', 37.00, 37],[10, 'Ray', 16.50, 80]] \n",
    "#Let me retrive important datas for calculating the pay and this are Name, Hours, and Rate\n",
    "Employee_Name = []\n",
    "for employee in employee_data[1:]: # loops through the big list employee_data\n",
    "    Employee_Name.append(employee[1] ) # adds it to Employee_Name list\n",
    "    \n",
    "Hours_Worked = []\n",
    "\n",
    "for employee in employee_data[1:]: # loops through the big list employee_data\n",
    "    Hours_Worked.append(employee[3] ) # adds it to Hours_Worked list\n",
    "    \n",
    "    \n",
    "Pay_Rate = []\n",
    "for employee in employee_data[1:]: # loops through the big list employee_data\n",
    "    Pay_Rate.append(employee[2] )# adds it to Pay_Rate list\n",
    "    \n",
    "    \n",
    "# Define a function that calculates the salary \n",
    "def payroll(Hours_Worked, Pay_Rate):\n",
    "    if Hours_Worked <= 40:\n",
    "        Salary = (Pay_Rate * 40) \n",
    "    else:\n",
    "        Salary = (Pay_Rate * 40) + (Hours_Worked - 40)*Pay_Rate*1.5\n",
    "    return Salary\n",
    "\n",
    "# Make a dictionary with Hours_Worked and Pay_Rate list    \n",
    "Salary_dict = dict(zip(Hours_Worked, Pay_Rate)) \n",
    "\n",
    "# Calculate the salary using payroll function and put it as list\n",
    "Salary_cal = []\n",
    "for key, value in Salary_dict.items(): # loops through the big list (wines)\n",
    "    Salary_cal.append(payroll(key , value ) )\n",
    "    #return Salary_cal\n",
    "\n",
    "    \n",
    "# Make a dictionary with Employee's name as key and its salary as value   \n",
    "Salary_Employee = dict(zip(Employee_Name, Salary_cal)) \n",
    "\n",
    "# Print the salary of each employee along thierr names\n",
    "for key, value in Salary_Employee.items():\n",
    "    print(f\"Salary earned by {key} is ${value} \")"
   ]
  },
  {
   "cell_type": "code",
   "execution_count": null,
   "metadata": {},
   "outputs": [],
   "source": []
  }
 ],
 "metadata": {
  "kernelspec": {
   "display_name": "Python 3",
   "language": "python",
   "name": "python3"
  },
  "language_info": {
   "codemirror_mode": {
    "name": "ipython",
    "version": 3
   },
   "file_extension": ".py",
   "mimetype": "text/x-python",
   "name": "python",
   "nbconvert_exporter": "python",
   "pygments_lexer": "ipython3",
   "version": "3.7.6"
  }
 },
 "nbformat": 4,
 "nbformat_minor": 4
}
